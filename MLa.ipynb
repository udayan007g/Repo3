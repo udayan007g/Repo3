{
 "cells": [
  {
   "cell_type": "code",
   "execution_count": 4,
   "id": "bc0c25df-7ff9-46a0-8ee8-67e860911f73",
   "metadata": {},
   "outputs": [],
   "source": [
    "import numpy as np"
   ]
  },
  {
   "cell_type": "code",
   "execution_count": 5,
   "id": "3f564ede-dae0-4283-894d-7fb141ca9695",
   "metadata": {},
   "outputs": [
    {
     "data": {
      "text/plain": [
       "array([], dtype=float64)"
      ]
     },
     "execution_count": 5,
     "metadata": {},
     "output_type": "execute_result"
    }
   ],
   "source": [
    "#empty array \n",
    "arr1=np.array([])\n",
    "arr1"
   ]
  },
  {
   "cell_type": "code",
   "execution_count": 6,
   "id": "3eaf6a74-6a14-4cc0-b342-0f0ca0f736a0",
   "metadata": {},
   "outputs": [
    {
     "data": {
      "text/plain": [
       "numpy.ndarray"
      ]
     },
     "execution_count": 6,
     "metadata": {},
     "output_type": "execute_result"
    }
   ],
   "source": [
    "type(arr1)"
   ]
  },
  {
   "cell_type": "code",
   "execution_count": 7,
   "id": "1da2447d-36f4-45a1-b191-8748f02a94ea",
   "metadata": {},
   "outputs": [
    {
     "data": {
      "text/plain": [
       "tuple"
      ]
     },
     "execution_count": 7,
     "metadata": {},
     "output_type": "execute_result"
    }
   ],
   "source": [
    "t1=(23,4,7.6,1,3)\n",
    "type(t1)"
   ]
  },
  {
   "cell_type": "code",
   "execution_count": 11,
   "id": "a150a93d-66bb-4566-a07e-5a122cf5a859",
   "metadata": {},
   "outputs": [
    {
     "data": {
      "text/plain": [
       "array([23. ,  4. ,  7.6,  1. ,  3. ])"
      ]
     },
     "execution_count": 11,
     "metadata": {},
     "output_type": "execute_result"
    }
   ],
   "source": [
    "arr2=np.array(t1)\n",
    "arr2"
   ]
  },
  {
   "cell_type": "code",
   "execution_count": 12,
   "id": "4402473e-2d35-41c9-a356-17c3cc5ff034",
   "metadata": {},
   "outputs": [
    {
     "data": {
      "text/plain": [
       "numpy.ndarray"
      ]
     },
     "execution_count": 12,
     "metadata": {},
     "output_type": "execute_result"
    }
   ],
   "source": [
    "type(arr2)"
   ]
  },
  {
   "cell_type": "code",
   "execution_count": 14,
   "id": "7390cb6e-deea-44de-9c3f-7b5d7dd8a7c0",
   "metadata": {},
   "outputs": [
    {
     "data": {
      "text/plain": [
       "dtype('float64')"
      ]
     },
     "execution_count": 14,
     "metadata": {},
     "output_type": "execute_result"
    }
   ],
   "source": [
    "arr2.dtype #data type of elements of array"
   ]
  },
  {
   "cell_type": "code",
   "execution_count": 31,
   "id": "dc34582c-1c82-4820-9e6e-311d217f1923",
   "metadata": {},
   "outputs": [
    {
     "data": {
      "text/plain": [
       "5"
      ]
     },
     "execution_count": 31,
     "metadata": {},
     "output_type": "execute_result"
    }
   ],
   "source": [
    "len(arr2) #length of array"
   ]
  },
  {
   "cell_type": "code",
   "execution_count": 32,
   "id": "f4ca9e36-9058-48a4-9873-e3b91619c5a2",
   "metadata": {
    "jp-MarkdownHeadingCollapsed": true
   },
   "outputs": [
    {
     "data": {
      "text/plain": [
       "1"
      ]
     },
     "execution_count": 32,
     "metadata": {},
     "output_type": "execute_result"
    }
   ],
   "source": [
    "arr2.ndim # no of dimensions "
   ]
  },
  {
   "cell_type": "code",
   "execution_count": 34,
   "id": "49e99759-4550-4924-806d-6a4f6b5a1701",
   "metadata": {},
   "outputs": [
    {
     "data": {
      "text/plain": [
       "5"
      ]
     },
     "execution_count": 34,
     "metadata": {},
     "output_type": "execute_result"
    }
   ],
   "source": [
    "arr2.size #size of the elements"
   ]
  },
  {
   "cell_type": "code",
   "execution_count": 35,
   "id": "691f2159-945b-4604-b39e-c69a35d1fc39",
   "metadata": {},
   "outputs": [
    {
     "data": {
      "text/plain": [
       "(5,)"
      ]
     },
     "execution_count": 35,
     "metadata": {},
     "output_type": "execute_result"
    }
   ],
   "source": [
    "arr2.shape #return no of rows and columns "
   ]
  },
  {
   "cell_type": "code",
   "execution_count": null,
   "id": "feb65a96-ed28-404e-b92e-d147f994b1e2",
   "metadata": {},
   "outputs": [],
   "source": []
  },
  {
   "cell_type": "code",
   "execution_count": null,
   "id": "bd0f78a6-50fd-4774-9376-de3b502722ad",
   "metadata": {},
   "outputs": [],
   "source": []
  },
  {
   "cell_type": "code",
   "execution_count": null,
   "id": "89f3debb-8236-4af6-99ce-360a5368bfc5",
   "metadata": {},
   "outputs": [],
   "source": []
  },
  {
   "cell_type": "code",
   "execution_count": null,
   "id": "c471da16-e900-4d7a-9c58-5db98655f5cd",
   "metadata": {},
   "outputs": [],
   "source": []
  },
  {
   "cell_type": "markdown",
   "id": "46889ac5-d611-4332-9f94-6b8806e4dc0b",
   "metadata": {},
   "source": [
    "### 2d array"
   ]
  },
  {
   "cell_type": "code",
   "execution_count": 15,
   "id": "df3e5819-369a-468f-b260-0c05c213c0e7",
   "metadata": {},
   "outputs": [],
   "source": [
    "nested_list=[[1,5],[2,6],[5,7]]"
   ]
  },
  {
   "cell_type": "code",
   "execution_count": 16,
   "id": "692de819-1392-481a-9112-ed357fa9f4ce",
   "metadata": {},
   "outputs": [],
   "source": [
    "arr3=np.array(nested_list)"
   ]
  },
  {
   "cell_type": "code",
   "execution_count": 17,
   "id": "c43b8de8-0cb1-43ab-a121-b054854b258b",
   "metadata": {},
   "outputs": [
    {
     "data": {
      "text/plain": [
       "2"
      ]
     },
     "execution_count": 17,
     "metadata": {},
     "output_type": "execute_result"
    }
   ],
   "source": [
    "arr3.ndim"
   ]
  },
  {
   "cell_type": "code",
   "execution_count": 18,
   "id": "2926dac3-416e-4f46-a6a9-be5b192cd64b",
   "metadata": {},
   "outputs": [
    {
     "data": {
      "text/plain": [
       "(3, 2)"
      ]
     },
     "execution_count": 18,
     "metadata": {},
     "output_type": "execute_result"
    }
   ],
   "source": [
    "arr3.shape"
   ]
  },
  {
   "cell_type": "code",
   "execution_count": 19,
   "id": "d81c73da-b8b4-4a00-a91e-42295b86fef5",
   "metadata": {},
   "outputs": [
    {
     "data": {
      "text/plain": [
       "6"
      ]
     },
     "execution_count": 19,
     "metadata": {},
     "output_type": "execute_result"
    }
   ],
   "source": [
    "arr3.size"
   ]
  },
  {
   "cell_type": "markdown",
   "id": "9ea5ffd2-3c83-4a81-9ff8-dccbe8f60c51",
   "metadata": {},
   "source": [
    "# 3d array"
   ]
  },
  {
   "cell_type": "code",
   "execution_count": 20,
   "id": "520d3def-8b4f-4db8-870e-47e0a83ebcc7",
   "metadata": {},
   "outputs": [],
   "source": [
    "nested_list2=[[\n",
    "    [2,4,5],[3,6,1],[7,14,25],[13,26,11]\n",
    "]\n",
    "             ]"
   ]
  },
  {
   "cell_type": "code",
   "execution_count": 21,
   "id": "2a2de22f-a2d2-49fa-b0b9-9ce9cf4b635c",
   "metadata": {},
   "outputs": [],
   "source": [
    "arr4=np.array(nested_list2)"
   ]
  },
  {
   "cell_type": "code",
   "execution_count": 22,
   "id": "746688f5-ce3f-4b2a-85c8-8f9c829cb66c",
   "metadata": {},
   "outputs": [
    {
     "data": {
      "text/plain": [
       "3"
      ]
     },
     "execution_count": 22,
     "metadata": {},
     "output_type": "execute_result"
    }
   ],
   "source": [
    "arr4.ndim"
   ]
  },
  {
   "cell_type": "code",
   "execution_count": 23,
   "id": "55b6070a-d914-4f09-954c-59b222cecac2",
   "metadata": {},
   "outputs": [
    {
     "data": {
      "text/plain": [
       "(1, 4, 3)"
      ]
     },
     "execution_count": 23,
     "metadata": {},
     "output_type": "execute_result"
    }
   ],
   "source": [
    "arr4.shape"
   ]
  },
  {
   "cell_type": "code",
   "execution_count": 24,
   "id": "ceef1e0a-f0b6-41ce-9a14-5517e496c1af",
   "metadata": {},
   "outputs": [
    {
     "data": {
      "text/plain": [
       "12"
      ]
     },
     "execution_count": 24,
     "metadata": {},
     "output_type": "execute_result"
    }
   ],
   "source": [
    "arr4.size"
   ]
  },
  {
   "cell_type": "code",
   "execution_count": 26,
   "id": "0a927eec-41e5-4585-88c7-94b1969f0afc",
   "metadata": {},
   "outputs": [],
   "source": [
    "nested_list2=[ [\n",
    "              [2,4,5],[3,6,1],\n",
    "             ],\n",
    "              [\n",
    "               [7,14,25],[13,26,11]\n",
    "              ]\n",
    "\n",
    "             ]"
   ]
  },
  {
   "cell_type": "code",
   "execution_count": 27,
   "id": "e27e53b2-17b2-41ce-9693-6b82e185aa9f",
   "metadata": {},
   "outputs": [],
   "source": [
    "arr4=np.array(nested_list2)"
   ]
  },
  {
   "cell_type": "code",
   "execution_count": 28,
   "id": "7d6071a8-308c-4446-bf14-dda7471b9a30",
   "metadata": {},
   "outputs": [
    {
     "data": {
      "text/plain": [
       "(2, 2, 3)"
      ]
     },
     "execution_count": 28,
     "metadata": {},
     "output_type": "execute_result"
    }
   ],
   "source": [
    "arr4.shape"
   ]
  },
  {
   "cell_type": "code",
   "execution_count": 29,
   "id": "782182b0-2fbc-4bcf-bbbe-1909c786eb23",
   "metadata": {},
   "outputs": [
    {
     "data": {
      "text/plain": [
       "12"
      ]
     },
     "execution_count": 29,
     "metadata": {},
     "output_type": "execute_result"
    }
   ],
   "source": [
    "    arr4.size"
   ]
  },
  {
   "cell_type": "code",
   "execution_count": 30,
   "id": "0b744677-b6c0-4944-b744-aab20028d798",
   "metadata": {},
   "outputs": [
    {
     "data": {
      "text/plain": [
       "3"
      ]
     },
     "execution_count": 30,
     "metadata": {},
     "output_type": "execute_result"
    }
   ],
   "source": [
    "arr4.ndim"
   ]
  },
  {
   "cell_type": "markdown",
   "id": "8131c9da-dd73-4a22-9dbc-9312547a0b46",
   "metadata": {},
   "source": [
    "## Built in Function to generate\n",
    "## arrangwe"
   ]
  },
  {
   "cell_type": "code",
   "execution_count": 38,
   "id": "1d313010-be30-4ffe-a7a9-94e80d45e797",
   "metadata": {},
   "outputs": [
    {
     "data": {
      "text/plain": [
       "array([0, 1, 2, 3, 4, 5, 6, 7, 8, 9])"
      ]
     },
     "execution_count": 38,
     "metadata": {},
     "output_type": "execute_result"
    }
   ],
   "source": [
    "a1=np.arange(10) #0 till 10-1\n",
    "a1"
   ]
  },
  {
   "cell_type": "code",
   "execution_count": 41,
   "id": "ee21b9ae-66d6-4570-8dcf-b50ed28ac9ec",
   "metadata": {},
   "outputs": [
    {
     "data": {
      "text/plain": [
       "array([ 5,  6,  7,  8,  9, 10, 11, 12, 13, 14, 15, 16, 17, 18, 19, 20, 21,\n",
       "       22, 23])"
      ]
     },
     "execution_count": 41,
     "metadata": {},
     "output_type": "execute_result"
    }
   ],
   "source": [
    "a2=np.arange(5,24)# 5 till 24\n",
    "a2"
   ]
  },
  {
   "cell_type": "code",
   "execution_count": 43,
   "id": "933d7a7d-ab7b-49d5-8908-790b8a5c8ae2",
   "metadata": {},
   "outputs": [
    {
     "data": {
      "text/plain": [
       "array([ 2,  5,  8, 11, 14, 17, 20])"
      ]
     },
     "execution_count": 43,
     "metadata": {},
     "output_type": "execute_result"
    }
   ],
   "source": [
    "a3=np.arange(2,22,3 )# 2till 22 with a step of 3\n",
    "a3"
   ]
  },
  {
   "cell_type": "code",
   "execution_count": 44,
   "id": "aac8eced-5071-4a38-81a0-b7b4dc6ca5f2",
   "metadata": {},
   "outputs": [
    {
     "data": {
      "text/plain": [
       "array([20, 18, 16, 14, 12, 10,  8,  6,  4])"
      ]
     },
     "execution_count": 44,
     "metadata": {},
     "output_type": "execute_result"
    }
   ],
   "source": [
    "a3=np.arange(20,2,-2)# 2till 22 with a step of 3\n",
    "a3"
   ]
  },
  {
   "cell_type": "markdown",
   "id": "484942f5-2147-441c-a3a8-172fe80baa75",
   "metadata": {},
   "source": [
    "## Linspace --->generates array elements of decimal values within a given range"
   ]
  },
  {
   "cell_type": "code",
   "execution_count": 46,
   "id": "8c1b61be-8371-4601-9257-fc3b84827767",
   "metadata": {},
   "outputs": [
    {
     "data": {
      "text/plain": [
       "array([10.        , 11.42857143, 12.85714286, 14.28571429, 15.71428571,\n",
       "       17.14285714, 18.57142857, 20.        , 21.42857143, 22.85714286,\n",
       "       24.28571429, 25.71428571, 27.14285714, 28.57142857, 30.        ,\n",
       "       31.42857143, 32.85714286, 34.28571429, 35.71428571, 37.14285714,\n",
       "       38.57142857, 40.        , 41.42857143, 42.85714286, 44.28571429,\n",
       "       45.71428571, 47.14285714, 48.57142857, 50.        , 51.42857143,\n",
       "       52.85714286, 54.28571429, 55.71428571, 57.14285714, 58.57142857,\n",
       "       60.        , 61.42857143, 62.85714286, 64.28571429, 65.71428571,\n",
       "       67.14285714, 68.57142857, 70.        , 71.42857143, 72.85714286,\n",
       "       74.28571429, 75.71428571, 77.14285714, 78.57142857, 80.        ])"
      ]
     },
     "execution_count": 46,
     "metadata": {},
     "output_type": "execute_result"
    }
   ],
   "source": [
    "a4=np.linspace(10,80) #generates 50 elments by default\n",
    "a4"
   ]
  },
  {
   "cell_type": "code",
   "execution_count": 47,
   "id": "a2dcb3ab-00a2-4a80-8763-25174f1b9a2c",
   "metadata": {},
   "outputs": [
    {
     "data": {
      "text/plain": [
       "50"
      ]
     },
     "execution_count": 47,
     "metadata": {},
     "output_type": "execute_result"
    }
   ],
   "source": [
    "a4.size"
   ]
  },
  {
   "cell_type": "code",
   "execution_count": 49,
   "id": "6b61f3b7-cd9a-43f6-9ebc-fdc0e9814801",
   "metadata": {},
   "outputs": [
    {
     "data": {
      "text/plain": [
       "array([ 1.        ,  1.31034483,  1.62068966,  1.93103448,  2.24137931,\n",
       "        2.55172414,  2.86206897,  3.17241379,  3.48275862,  3.79310345,\n",
       "        4.10344828,  4.4137931 ,  4.72413793,  5.03448276,  5.34482759,\n",
       "        5.65517241,  5.96551724,  6.27586207,  6.5862069 ,  6.89655172,\n",
       "        7.20689655,  7.51724138,  7.82758621,  8.13793103,  8.44827586,\n",
       "        8.75862069,  9.06896552,  9.37931034,  9.68965517, 10.        ])"
      ]
     },
     "execution_count": 49,
     "metadata": {},
     "output_type": "execute_result"
    }
   ],
   "source": [
    "a5=np.linspace(1,10,30)\n",
    "a5"
   ]
  },
  {
   "cell_type": "code",
   "execution_count": 50,
   "id": "203af95e-9fbb-4408-ad5c-8cdb1b2fbc3c",
   "metadata": {},
   "outputs": [
    {
     "data": {
      "text/plain": [
       "30"
      ]
     },
     "execution_count": 50,
     "metadata": {},
     "output_type": "execute_result"
    }
   ],
   "source": [
    "a5.size"
   ]
  },
  {
   "cell_type": "markdown",
   "id": "843c7cec-fb2d-4ef8-a825-773bbe7a45d2",
   "metadata": {},
   "source": [
    "# retstep=True --returns the interval"
   ]
  },
  {
   "cell_type": "code",
   "execution_count": 52,
   "id": "5544711e-0dbf-4beb-b327-75ce33a696c6",
   "metadata": {},
   "outputs": [
    {
     "data": {
      "text/plain": [
       "(array([ 23.        ,  27.05263158,  31.10526316,  35.15789474,\n",
       "         39.21052632,  43.26315789,  47.31578947,  51.36842105,\n",
       "         55.42105263,  59.47368421,  63.52631579,  67.57894737,\n",
       "         71.63157895,  75.68421053,  79.73684211,  83.78947368,\n",
       "         87.84210526,  91.89473684,  95.94736842, 100.        ]),\n",
       " 4.052631578947368)"
      ]
     },
     "execution_count": 52,
     "metadata": {},
     "output_type": "execute_result"
    }
   ],
   "source": [
    "a5=np.linspace(23,100,20,retstep=True)\n",
    "a5"
   ]
  },
  {
   "cell_type": "code",
   "execution_count": 53,
   "id": "774ca9ce-15b2-4864-8643-c5d734257ac3",
   "metadata": {},
   "outputs": [
    {
     "data": {
      "text/plain": [
       "20"
      ]
     },
     "execution_count": 53,
     "metadata": {},
     "output_type": "execute_result"
    }
   ],
   "source": [
    "a5[0].size"
   ]
  },
  {
   "cell_type": "markdown",
   "id": "eaa98e23-6100-4ee8-91ac-9cc03642a622",
   "metadata": {},
   "source": [
    "# reshape()-- changes the shape of the array"
   ]
  },
  {
   "cell_type": "code",
   "execution_count": 54,
   "id": "467eb772-c5fb-4adc-b0c4-86f15a7bc15d",
   "metadata": {},
   "outputs": [
    {
     "data": {
      "text/plain": [
       "array([[1, 5],\n",
       "       [2, 6],\n",
       "       [5, 7]])"
      ]
     },
     "execution_count": 54,
     "metadata": {},
     "output_type": "execute_result"
    }
   ],
   "source": [
    "arr3"
   ]
  },
  {
   "cell_type": "code",
   "execution_count": 55,
   "id": "50d66e71-5d87-4e72-86c5-1f9d18a85829",
   "metadata": {},
   "outputs": [
    {
     "data": {
      "text/plain": [
       "(3, 2)"
      ]
     },
     "execution_count": 55,
     "metadata": {},
     "output_type": "execute_result"
    }
   ],
   "source": [
    "arr3.shape"
   ]
  },
  {
   "cell_type": "code",
   "execution_count": null,
   "id": "9f9a715e-d7cb-48bb-8d06-0a10b2e029a6",
   "metadata": {},
   "outputs": [],
   "source": [
    "#Note: while reshaping put the shape of multiple of total size of elements only"
   ]
  },
  {
   "cell_type": "code",
   "execution_count": 58,
   "id": "9572e68f-c8ea-4da7-8261-1e8c8cac107d",
   "metadata": {},
   "outputs": [
    {
     "data": {
      "text/plain": [
       "array([[1, 5, 2],\n",
       "       [6, 5, 7]])"
      ]
     },
     "execution_count": 58,
     "metadata": {},
     "output_type": "execute_result"
    }
   ],
   "source": [
    "arr3_reshape=arr3.reshape((2,3))# change the shape of arr3 from (3,2) to (2,3)\n",
    "arr3_reshape"
   ]
  },
  {
   "cell_type": "code",
   "execution_count": 59,
   "id": "f5609b41-2b48-414b-97a4-90cdc1c373df",
   "metadata": {},
   "outputs": [
    {
     "data": {
      "text/plain": [
       "array([23. ,  4. ,  7.6,  1. ,  3. ])"
      ]
     },
     "execution_count": 59,
     "metadata": {},
     "output_type": "execute_result"
    }
   ],
   "source": [
    "arr2"
   ]
  },
  {
   "cell_type": "code",
   "execution_count": 60,
   "id": "66e94088-aa8d-44e0-9156-a6789999f45b",
   "metadata": {},
   "outputs": [
    {
     "data": {
      "text/plain": [
       "array([[[ 2,  4,  5],\n",
       "        [ 3,  6,  1]],\n",
       "\n",
       "       [[ 7, 14, 25],\n",
       "        [13, 26, 11]]])"
      ]
     },
     "execution_count": 60,
     "metadata": {},
     "output_type": "execute_result"
    }
   ],
   "source": [
    "arr4"
   ]
  },
  {
   "cell_type": "code",
   "execution_count": 61,
   "id": "76c64a66-2fbe-4955-ba74-1b376d86979a",
   "metadata": {},
   "outputs": [
    {
     "data": {
      "text/plain": [
       "(2, 2, 3)"
      ]
     },
     "execution_count": 61,
     "metadata": {},
     "output_type": "execute_result"
    }
   ],
   "source": [
    "arr4.shape"
   ]
  },
  {
   "cell_type": "code",
   "execution_count": 63,
   "id": "1052a2f7-2620-48ab-ae4e-6088b3db38c9",
   "metadata": {},
   "outputs": [
    {
     "data": {
      "text/plain": [
       "array([[[ 2,  4,  5],\n",
       "        [ 3,  6,  1],\n",
       "        [ 7, 14, 25],\n",
       "        [13, 26, 11]]])"
      ]
     },
     "execution_count": 63,
     "metadata": {},
     "output_type": "execute_result"
    }
   ],
   "source": [
    "arr4.reshape((1,4,3))"
   ]
  },
  {
   "cell_type": "code",
   "execution_count": 64,
   "id": "81031186-a124-4f4e-9e03-82e1edb0b6cd",
   "metadata": {},
   "outputs": [
    {
     "data": {
      "text/plain": [
       "array([ 2,  4,  5,  3,  6,  1,  7, 14, 25, 13, 26, 11])"
      ]
     },
     "execution_count": 64,
     "metadata": {},
     "output_type": "execute_result"
    }
   ],
   "source": [
    "arr4.reshape((12,))"
   ]
  },
  {
   "cell_type": "code",
   "execution_count": 65,
   "id": "9e25991c-41fe-4241-8772-a1ea34ac2213",
   "metadata": {},
   "outputs": [],
   "source": [
    "arr1_list=[[2,4],\n",
    "           [3,4],\n",
    "           [6,2],\n",
    "           [5,3]\n",
    "          ]\n",
    "           "
   ]
  },
  {
   "cell_type": "code",
   "execution_count": 67,
   "id": "096b8858-803b-4220-918d-d7f2ff016bfe",
   "metadata": {},
   "outputs": [
    {
     "data": {
      "text/plain": [
       "array([[2, 4],\n",
       "       [3, 4],\n",
       "       [6, 2],\n",
       "       [5, 3]])"
      ]
     },
     "execution_count": 67,
     "metadata": {},
     "output_type": "execute_result"
    }
   ],
   "source": [
    "arr1=np.array(arr1_list)\n",
    "arr1"
   ]
  },
  {
   "cell_type": "code",
   "execution_count": 68,
   "id": "36b2f1ee-2577-46f3-a6cf-477ecf20ec77",
   "metadata": {},
   "outputs": [
    {
     "data": {
      "text/plain": [
       "array([[2, 4, 3, 4],\n",
       "       [6, 2, 5, 3]])"
      ]
     },
     "execution_count": 68,
     "metadata": {},
     "output_type": "execute_result"
    }
   ],
   "source": [
    "arr1.reshape((2,4))"
   ]
  },
  {
   "cell_type": "markdown",
   "id": "1cb945aa-eb2a-4d54-bf70-15a7dc392e53",
   "metadata": {},
   "source": [
    "# Zeros() and ones()"
   ]
  },
  {
   "cell_type": "code",
   "execution_count": 69,
   "id": "7623850e-12f0-478e-b0bc-c14d0ffdcb0b",
   "metadata": {},
   "outputs": [
    {
     "data": {
      "text/plain": [
       "array([0, 0, 0])"
      ]
     },
     "execution_count": 69,
     "metadata": {},
     "output_type": "execute_result"
    }
   ],
   "source": [
    "a6=np.zeros(3,dtype=int)\n",
    "a6"
   ]
  },
  {
   "cell_type": "code",
   "execution_count": 70,
   "id": "2d4b4ca5-8fdd-4643-8f73-a2293095af45",
   "metadata": {},
   "outputs": [
    {
     "data": {
      "text/plain": [
       "array([[0, 0, 0, 0],\n",
       "       [0, 0, 0, 0],\n",
       "       [0, 0, 0, 0]])"
      ]
     },
     "execution_count": 70,
     "metadata": {},
     "output_type": "execute_result"
    }
   ],
   "source": [
    "a7=np.zeros((3,4),dtype=int)\n",
    "a7"
   ]
  },
  {
   "cell_type": "code",
   "execution_count": 71,
   "id": "94ea60de-b005-4209-bb78-9e8d80dd409b",
   "metadata": {},
   "outputs": [
    {
     "data": {
      "text/plain": [
       "array([1, 1, 1])"
      ]
     },
     "execution_count": 71,
     "metadata": {},
     "output_type": "execute_result"
    }
   ],
   "source": [
    "a6=np.ones(3,dtype=int)\n",
    "a6"
   ]
  },
  {
   "cell_type": "code",
   "execution_count": 72,
   "id": "f31840f9-8a6a-4b5a-bd8b-0a53871fecf7",
   "metadata": {},
   "outputs": [
    {
     "data": {
      "text/plain": [
       "array([1, 1, 1, 1, 1])"
      ]
     },
     "execution_count": 72,
     "metadata": {},
     "output_type": "execute_result"
    }
   ],
   "source": [
    "a6=np.ones(5,dtype=int)\n",
    "a6"
   ]
  },
  {
   "cell_type": "code",
   "execution_count": 75,
   "id": "724762c1-92a5-45b7-a51e-92e9dc7912ad",
   "metadata": {},
   "outputs": [
    {
     "data": {
      "text/plain": [
       "array([[[1., 1., 1., 1., 1.],\n",
       "        [1., 1., 1., 1., 1.]],\n",
       "\n",
       "       [[1., 1., 1., 1., 1.],\n",
       "        [1., 1., 1., 1., 1.]]])"
      ]
     },
     "execution_count": 75,
     "metadata": {},
     "output_type": "execute_result"
    }
   ],
   "source": [
    "a9=np.ones((2,2,5))#1st one is for two times 2d array and 2nd element is for 2 rows and 2 columns \n",
    "a9"
   ]
  },
  {
   "cell_type": "code",
   "execution_count": 76,
   "id": "1ec57133-5b2c-432a-897f-666cb9eefc2f",
   "metadata": {},
   "outputs": [
    {
     "data": {
      "text/plain": [
       "3"
      ]
     },
     "execution_count": 76,
     "metadata": {},
     "output_type": "execute_result"
    }
   ],
   "source": [
    "a9.ndim"
   ]
  },
  {
   "cell_type": "markdown",
   "id": "e21b938e-3caf-417e-86bc-16e26d1b1d59",
   "metadata": {},
   "source": [
    "## eye()-- it generates identity matrix"
   ]
  },
  {
   "cell_type": "code",
   "execution_count": 79,
   "id": "1d94001f-f834-48a9-a623-cd024cb213fe",
   "metadata": {},
   "outputs": [
    {
     "data": {
      "text/plain": [
       "array([[1., 0., 0., 0., 0.],\n",
       "       [0., 1., 0., 0., 0.],\n",
       "       [0., 0., 1., 0., 0.],\n",
       "       [0., 0., 0., 1., 0.],\n",
       "       [0., 0., 0., 0., 1.]])"
      ]
     },
     "execution_count": 79,
     "metadata": {},
     "output_type": "execute_result"
    }
   ],
   "source": [
    "a10=np.eye(5,5)# here all diagonal elemnts will be same \n",
    "a10"
   ]
  },
  {
   "cell_type": "code",
   "execution_count": 81,
   "id": "f2df09d5-dcec-4525-8815-05bd4e5e8883",
   "metadata": {},
   "outputs": [
    {
     "data": {
      "text/plain": [
       "array([[1., 0., 0.],\n",
       "       [0., 1., 0.],\n",
       "       [0., 0., 1.]])"
      ]
     },
     "execution_count": 81,
     "metadata": {},
     "output_type": "execute_result"
    }
   ],
   "source": [
    "a11=np.eye(3))# here all diagonal elemnts will be same \n",
    "a11"
   ]
  },
  {
   "cell_type": "markdown",
   "id": "8bb79c99-2796-46a6-aed3-a5889e2c4001",
   "metadata": {},
   "source": [
    "# Broadcasting in an array"
   ]
  },
  {
   "cell_type": "code",
   "execution_count": null,
   "id": "831d0db9-206f-4355-97d9-99380ea5bdfc",
   "metadata": {},
   "outputs": [],
   "source": [
    "Broadcasting means ability to acess every elemnt of the array and perform operations on it"
   ]
  },
  {
   "cell_type": "code",
   "execution_count": 82,
   "id": "46314f56-ae30-485e-8b04-59998f746868",
   "metadata": {},
   "outputs": [
    {
     "data": {
      "text/plain": [
       "array([[1., 0., 0.],\n",
       "       [0., 1., 0.],\n",
       "       [0., 0., 1.]])"
      ]
     },
     "execution_count": 82,
     "metadata": {},
     "output_type": "execute_result"
    }
   ],
   "source": [
    "a11 #3-1"
   ]
  },
  {
   "cell_type": "code",
   "execution_count": 84,
   "id": "3e6d4378-75f4-4993-bd38-60da6d63ee80",
   "metadata": {},
   "outputs": [
    {
     "data": {
      "text/plain": [
       "array([[ 2., -1., -1.],\n",
       "       [-1.,  2., -1.],\n",
       "       [-1., -1.,  2.]])"
      ]
     },
     "execution_count": 84,
     "metadata": {},
     "output_type": "execute_result"
    }
   ],
   "source": [
    "ans=a11 * 3-1\n",
    "ans"
   ]
  },
  {
   "cell_type": "code",
   "execution_count": 85,
   "id": "145ba11d-e71d-4c8d-8adb-5d65be0d3058",
   "metadata": {},
   "outputs": [
    {
     "data": {
      "text/plain": [
       "array([[1., 1., 1.],\n",
       "       [1., 1., 1.],\n",
       "       [1., 1., 1.]])"
      ]
     },
     "execution_count": 85,
     "metadata": {},
     "output_type": "execute_result"
    }
   ],
   "source": [
    "ans/ans"
   ]
  },
  {
   "cell_type": "code",
   "execution_count": 86,
   "id": "2d1f331f-a09e-4a54-91e7-bdae8304c798",
   "metadata": {},
   "outputs": [
    {
     "data": {
      "text/plain": [
       "array([[4., 1., 1.],\n",
       "       [1., 4., 1.],\n",
       "       [1., 1., 4.]])"
      ]
     },
     "execution_count": 86,
     "metadata": {},
     "output_type": "execute_result"
    }
   ],
   "source": [
    "ans**2"
   ]
  },
  {
   "cell_type": "markdown",
   "id": "b1051114-6f28-44a6-9d11-3f703bf8ef64",
   "metadata": {},
   "source": [
    "# Array generation using random elements"
   ]
  },
  {
   "cell_type": "markdown",
   "id": "02e24969-bc28-4f9f-9686-588f52964eb6",
   "metadata": {},
   "source": [
    "# rand()-- generates random numbers from 0 to 1 range"
   ]
  },
  {
   "cell_type": "code",
   "execution_count": 87,
   "id": "42f27fe3-9bca-43a9-ab73-3d138f2d3659",
   "metadata": {},
   "outputs": [
    {
     "data": {
      "text/plain": [
       "0.8126324103893342"
      ]
     },
     "execution_count": 87,
     "metadata": {},
     "output_type": "execute_result"
    }
   ],
   "source": [
    "np.random.rand()#1sr\\t"
   ]
  },
  {
   "cell_type": "code",
   "execution_count": 90,
   "id": "116482bd-6345-4996-a048-4bab2d405b8b",
   "metadata": {},
   "outputs": [
    {
     "data": {
      "text/plain": [
       "array([0.30946072, 0.86109714, 0.41775177, 0.07454422, 0.17793225,\n",
       "       0.3608587 , 0.73826993, 0.48588124, 0.90816457, 0.02760697])"
      ]
     },
     "execution_count": 90,
     "metadata": {},
     "output_type": "execute_result"
    }
   ],
   "source": [
    "a12=np.random.rand(10) #generates 10 elements within  0 to 1 range #2nd way\n",
    "a12"
   ]
  },
  {
   "cell_type": "code",
   "execution_count": 92,
   "id": "f63f413d-dea5-45ec-8dc4-fbafc5d23c7d",
   "metadata": {},
   "outputs": [
    {
     "data": {
      "text/plain": [
       "array([[0.30946072, 0.86109714],\n",
       "       [0.41775177, 0.07454422],\n",
       "       [0.17793225, 0.3608587 ],\n",
       "       [0.73826993, 0.48588124],\n",
       "       [0.90816457, 0.02760697]])"
      ]
     },
     "execution_count": 92,
     "metadata": {},
     "output_type": "execute_result"
    }
   ],
   "source": [
    "a13=a12.reshape(5,2)#reshape generated array to 2D\n",
    "a13"
   ]
  },
  {
   "cell_type": "code",
   "execution_count": 93,
   "id": "0d20c127-cca8-47a9-9624-f88416c2e9f8",
   "metadata": {},
   "outputs": [
    {
     "data": {
      "text/plain": [
       "array([[0.30946072, 0.86109714],\n",
       "       [0.41775177, 0.07454422],\n",
       "       [0.17793225, 0.3608587 ],\n",
       "       [0.73826993, 0.48588124],\n",
       "       [0.90816457, 0.02760697]])"
      ]
     },
     "execution_count": 93,
     "metadata": {},
     "output_type": "execute_result"
    }
   ],
   "source": [
    "a13"
   ]
  },
  {
   "cell_type": "code",
   "execution_count": 94,
   "id": "229f0656-c047-46a2-b84f-2d631d7429b9",
   "metadata": {},
   "outputs": [
    {
     "data": {
      "text/plain": [
       "array([0.30946072, 0.86109714, 0.41775177, 0.07454422, 0.17793225,\n",
       "       0.3608587 , 0.73826993, 0.48588124, 0.90816457, 0.02760697])"
      ]
     },
     "execution_count": 94,
     "metadata": {},
     "output_type": "execute_result"
    }
   ],
   "source": [
    "a12"
   ]
  },
  {
   "cell_type": "code",
   "execution_count": 95,
   "id": "d029de8e-8439-489a-b5af-5f3a3f26cf12",
   "metadata": {},
   "outputs": [
    {
     "data": {
      "text/plain": [
       "array([0.90816457, 0.86109714, 0.73826993, 0.48588124, 0.41775177,\n",
       "       0.3608587 , 0.30946072, 0.17793225, 0.07454422, 0.02760697])"
      ]
     },
     "execution_count": 95,
     "metadata": {},
     "output_type": "execute_result"
    }
   ],
   "source": [
    "np.sort(a12)[::-1] #descending order"
   ]
  },
  {
   "cell_type": "code",
   "execution_count": 96,
   "id": "bbe8b795-413b-42f3-bd7d-aaebf75d875d",
   "metadata": {},
   "outputs": [
    {
     "data": {
      "text/plain": [
       "array([[0.31317092, 0.32564617, 0.45616423, 0.77773549],\n",
       "       [0.44327354, 0.20877904, 0.58724814, 0.65419246],\n",
       "       [0.36040015, 0.98560952, 0.39085696, 0.80351155]])"
      ]
     },
     "execution_count": 96,
     "metadata": {},
     "output_type": "execute_result"
    }
   ],
   "source": [
    "np.random.rand(3,4) #3rd ways"
   ]
  },
  {
   "cell_type": "code",
   "execution_count": 97,
   "id": "3310f153-651e-4994-88d1-9dbf75015dff",
   "metadata": {},
   "outputs": [
    {
     "data": {
      "text/plain": [
       "array([0.0293951 , 0.19368957, 0.95751063, 0.18188733, 0.81359506,\n",
       "       0.25304486, 0.48205539, 0.04329466, 0.98752301, 0.69451882,\n",
       "       0.39300866, 0.86531795])"
      ]
     },
     "execution_count": 97,
     "metadata": {},
     "output_type": "execute_result"
    }
   ],
   "source": [
    "np.random.rand(12)"
   ]
  },
  {
   "cell_type": "code",
   "execution_count": 98,
   "id": "50b2b2fe-96c6-48a9-b36e-14eb98d44d72",
   "metadata": {},
   "outputs": [
    {
     "data": {
      "text/plain": [
       "array([[[0.46123713, 0.42931073, 0.33844088, 0.41536563],\n",
       "        [0.85656988, 0.60159505, 0.24762374, 0.0269041 ],\n",
       "        [0.28217203, 0.8827588 , 0.43513845, 0.36710847]],\n",
       "\n",
       "       [[0.56842162, 0.12806044, 0.38441728, 0.62266053],\n",
       "        [0.49892143, 0.86416305, 0.92946126, 0.17644487],\n",
       "        [0.98230349, 0.96296876, 0.17096612, 0.39859632]]])"
      ]
     },
     "execution_count": 98,
     "metadata": {},
     "output_type": "execute_result"
    }
   ],
   "source": [
    "np.random.rand(2,3,4)"
   ]
  },
  {
   "cell_type": "code",
   "execution_count": null,
   "id": "771714a5-8a0c-4ca8-927a-62c42dd1b4f3",
   "metadata": {},
   "outputs": [],
   "source": [
    "#randn()--generates array with elements of -3 to +3 range "
   ]
  },
  {
   "cell_type": "code",
   "execution_count": 101,
   "id": "99cdf7c3-8d02-4f63-9dfe-c0a66aa033b2",
   "metadata": {},
   "outputs": [
    {
     "data": {
      "text/plain": [
       "array([ 2.04637265, -0.20819426,  2.13591745, -0.22513384, -2.43655139,\n",
       "       -1.21999566,  0.16712293,  1.72386394, -0.20614685, -0.40953892,\n",
       "       -0.70429999, -1.60016665, -0.8118234 , -1.10124113,  0.00726256,\n",
       "        0.87659715, -1.25136241,  0.21478301, -0.24628487, -1.79878845])"
      ]
     },
     "execution_count": 101,
     "metadata": {},
     "output_type": "execute_result"
    }
   ],
   "source": [
    "a13=np.random.randn(20)#1d array\n",
    "a13"
   ]
  },
  {
   "cell_type": "code",
   "execution_count": null,
   "id": "35fe30f0-ac64-4974-9733-3a4ea3c31894",
   "metadata": {},
   "outputs": [],
   "source": [
    "#randint() --generates integer random numbers within a given  range "
   ]
  },
  {
   "cell_type": "code",
   "execution_count": 102,
   "id": "a9b8e691-7d72-4ab0-b1a9-ec290477b793",
   "metadata": {},
   "outputs": [
    {
     "data": {
      "text/plain": [
       "12"
      ]
     },
     "execution_count": 102,
     "metadata": {},
     "output_type": "execute_result"
    }
   ],
   "source": [
    "np.random.randint(2,19) #generates single random int within 2 & 19"
   ]
  },
  {
   "cell_type": "code",
   "execution_count": 104,
   "id": "0dcfb640-1a89-4777-889e-dad4a764bb8d",
   "metadata": {},
   "outputs": [
    {
     "data": {
      "text/plain": [
       "array([40, 33, 10,  9, 98, 85, 78, 35])"
      ]
     },
     "execution_count": 104,
     "metadata": {},
     "output_type": "execute_result"
    }
   ],
   "source": [
    "a15=np.random.randint(1,100,8)#betweem 1 to 100 ,8 elements will be generated\n",
    "a15"
   ]
  },
  {
   "cell_type": "code",
   "execution_count": null,
   "id": "ccef3784-8268-477a-853b-5bdd567ac530",
   "metadata": {},
   "outputs": [],
   "source": []
  }
 ],
 "metadata": {
  "kernelspec": {
   "display_name": "Python 3 (ipykernel)",
   "language": "python",
   "name": "python3"
  },
  "language_info": {
   "codemirror_mode": {
    "name": "ipython",
    "version": 3
   },
   "file_extension": ".py",
   "mimetype": "text/x-python",
   "name": "python",
   "nbconvert_exporter": "python",
   "pygments_lexer": "ipython3",
   "version": "3.12.7"
  }
 },
 "nbformat": 4,
 "nbformat_minor": 5
}
